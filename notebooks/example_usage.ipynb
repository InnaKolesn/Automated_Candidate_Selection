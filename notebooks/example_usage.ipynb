{
 "cells": [
  {
   "cell_type": "code",
   "execution_count": null,
   "id": "d2b71e92",
   "metadata": {},
   "outputs": [
    {
     "name": "stdout",
     "output_type": "stream",
     "text": [
      "Requirement already satisfied: dill in /home/nikus/env311/lib/python3.11/site-packages (0.3.9)\n",
      "Requirement already satisfied: sentence-transformers in /home/nikus/env311/lib/python3.11/site-packages (3.4.1)\n",
      "Requirement already satisfied: scikit-learn in /home/nikus/env311/lib/python3.11/site-packages (1.4.2)\n",
      "Requirement already satisfied: umap-learn in /home/nikus/env311/lib/python3.11/site-packages (0.5.7)\n",
      "Requirement already satisfied: hdbscan in /home/nikus/env311/lib/python3.11/site-packages (0.8.40)\n",
      "Requirement already satisfied: catboost in /home/nikus/env311/lib/python3.11/site-packages (1.2.1)\n",
      "Requirement already satisfied: pandas in /home/nikus/env311/lib/python3.11/site-packages (1.5.3)\n",
      "Requirement already satisfied: transformers<5.0.0,>=4.41.0 in /home/nikus/env311/lib/python3.11/site-packages (from sentence-transformers) (4.50.0)\n",
      "Requirement already satisfied: tqdm in /home/nikus/env311/lib/python3.11/site-packages (from sentence-transformers) (4.66.1)\n",
      "Requirement already satisfied: torch>=1.11.0 in /home/nikus/env311/lib/python3.11/site-packages (from sentence-transformers) (2.7.1)\n",
      "Requirement already satisfied: scipy in /home/nikus/env311/lib/python3.11/site-packages (from sentence-transformers) (1.9.3)\n",
      "Requirement already satisfied: huggingface-hub>=0.20.0 in /home/nikus/env311/lib/python3.11/site-packages (from sentence-transformers) (0.29.3)\n",
      "Requirement already satisfied: Pillow in /home/nikus/env311/lib/python3.11/site-packages (from sentence-transformers) (10.0.0)\n",
      "Requirement already satisfied: numpy>=1.19.5 in /home/nikus/env311/lib/python3.11/site-packages (from scikit-learn) (1.24.4)\n",
      "Requirement already satisfied: joblib>=1.2.0 in /home/nikus/env311/lib/python3.11/site-packages (from scikit-learn) (1.3.2)\n",
      "Requirement already satisfied: threadpoolctl>=2.0.0 in /home/nikus/env311/lib/python3.11/site-packages (from scikit-learn) (3.2.0)\n",
      "Requirement already satisfied: numba>=0.51.2 in /home/nikus/env311/lib/python3.11/site-packages (from umap-learn) (0.60.0)\n",
      "Requirement already satisfied: pynndescent>=0.5 in /home/nikus/env311/lib/python3.11/site-packages (from umap-learn) (0.5.13)\n",
      "Requirement already satisfied: graphviz in /home/nikus/env311/lib/python3.11/site-packages (from catboost) (0.20.1)\n",
      "Requirement already satisfied: matplotlib in /home/nikus/env311/lib/python3.11/site-packages (from catboost) (3.7.2)\n",
      "Requirement already satisfied: plotly in /home/nikus/env311/lib/python3.11/site-packages (from catboost) (5.16.1)\n",
      "Requirement already satisfied: six in /home/nikus/env311/lib/python3.11/site-packages (from catboost) (1.16.0)\n",
      "Requirement already satisfied: python-dateutil>=2.8.1 in /home/nikus/env311/lib/python3.11/site-packages (from pandas) (2.8.2)\n",
      "Requirement already satisfied: pytz>=2020.1 in /home/nikus/env311/lib/python3.11/site-packages (from pandas) (2023.3)\n",
      "Requirement already satisfied: filelock in /home/nikus/env311/lib/python3.11/site-packages (from huggingface-hub>=0.20.0->sentence-transformers) (3.12.3)\n",
      "Requirement already satisfied: fsspec>=2023.5.0 in /home/nikus/env311/lib/python3.11/site-packages (from huggingface-hub>=0.20.0->sentence-transformers) (2023.9.0)\n",
      "Requirement already satisfied: packaging>=20.9 in /home/nikus/env311/lib/python3.11/site-packages (from huggingface-hub>=0.20.0->sentence-transformers) (23.1)\n",
      "Requirement already satisfied: pyyaml>=5.1 in /home/nikus/env311/lib/python3.11/site-packages (from huggingface-hub>=0.20.0->sentence-transformers) (6.0.1)\n",
      "Requirement already satisfied: requests in /home/nikus/env311/lib/python3.11/site-packages (from huggingface-hub>=0.20.0->sentence-transformers) (2.31.0)\n",
      "Requirement already satisfied: typing-extensions>=3.7.4.3 in /home/nikus/env311/lib/python3.11/site-packages (from huggingface-hub>=0.20.0->sentence-transformers) (4.13.1)\n",
      "Requirement already satisfied: llvmlite<0.44,>=0.43.0dev0 in /home/nikus/env311/lib/python3.11/site-packages (from numba>=0.51.2->umap-learn) (0.43.0)\n",
      "Requirement already satisfied: sympy>=1.13.3 in /home/nikus/env311/lib/python3.11/site-packages (from torch>=1.11.0->sentence-transformers) (1.14.0)\n",
      "Requirement already satisfied: networkx in /home/nikus/env311/lib/python3.11/site-packages (from torch>=1.11.0->sentence-transformers) (3.1)\n",
      "Requirement already satisfied: jinja2 in /home/nikus/env311/lib/python3.11/site-packages (from torch>=1.11.0->sentence-transformers) (3.1.2)\n",
      "Requirement already satisfied: nvidia-cuda-nvrtc-cu12==12.6.77 in /home/nikus/env311/lib/python3.11/site-packages (from torch>=1.11.0->sentence-transformers) (12.6.77)\n",
      "Requirement already satisfied: nvidia-cuda-runtime-cu12==12.6.77 in /home/nikus/env311/lib/python3.11/site-packages (from torch>=1.11.0->sentence-transformers) (12.6.77)\n",
      "Requirement already satisfied: nvidia-cuda-cupti-cu12==12.6.80 in /home/nikus/env311/lib/python3.11/site-packages (from torch>=1.11.0->sentence-transformers) (12.6.80)\n",
      "Requirement already satisfied: nvidia-cudnn-cu12==9.5.1.17 in /home/nikus/env311/lib/python3.11/site-packages (from torch>=1.11.0->sentence-transformers) (9.5.1.17)\n",
      "Requirement already satisfied: nvidia-cublas-cu12==12.6.4.1 in /home/nikus/env311/lib/python3.11/site-packages (from torch>=1.11.0->sentence-transformers) (12.6.4.1)\n",
      "Requirement already satisfied: nvidia-cufft-cu12==11.3.0.4 in /home/nikus/env311/lib/python3.11/site-packages (from torch>=1.11.0->sentence-transformers) (11.3.0.4)\n",
      "Requirement already satisfied: nvidia-curand-cu12==10.3.7.77 in /home/nikus/env311/lib/python3.11/site-packages (from torch>=1.11.0->sentence-transformers) (10.3.7.77)\n",
      "Requirement already satisfied: nvidia-cusolver-cu12==11.7.1.2 in /home/nikus/env311/lib/python3.11/site-packages (from torch>=1.11.0->sentence-transformers) (11.7.1.2)\n",
      "Requirement already satisfied: nvidia-cusparse-cu12==12.5.4.2 in /home/nikus/env311/lib/python3.11/site-packages (from torch>=1.11.0->sentence-transformers) (12.5.4.2)\n",
      "Requirement already satisfied: nvidia-cusparselt-cu12==0.6.3 in /home/nikus/env311/lib/python3.11/site-packages (from torch>=1.11.0->sentence-transformers) (0.6.3)\n",
      "Requirement already satisfied: nvidia-nccl-cu12==2.26.2 in /home/nikus/env311/lib/python3.11/site-packages (from torch>=1.11.0->sentence-transformers) (2.26.2)\n",
      "Requirement already satisfied: nvidia-nvtx-cu12==12.6.77 in /home/nikus/env311/lib/python3.11/site-packages (from torch>=1.11.0->sentence-transformers) (12.6.77)\n",
      "Requirement already satisfied: nvidia-nvjitlink-cu12==12.6.85 in /home/nikus/env311/lib/python3.11/site-packages (from torch>=1.11.0->sentence-transformers) (12.6.85)\n",
      "Requirement already satisfied: nvidia-cufile-cu12==1.11.1.6 in /home/nikus/env311/lib/python3.11/site-packages (from torch>=1.11.0->sentence-transformers) (1.11.1.6)\n",
      "Requirement already satisfied: triton==3.3.1 in /home/nikus/env311/lib/python3.11/site-packages (from torch>=1.11.0->sentence-transformers) (3.3.1)\n",
      "Requirement already satisfied: setuptools>=40.8.0 in /home/nikus/env311/lib/python3.11/site-packages (from triton==3.3.1->torch>=1.11.0->sentence-transformers) (68.1.2)\n",
      "Requirement already satisfied: regex!=2019.12.17 in /home/nikus/env311/lib/python3.11/site-packages (from transformers<5.0.0,>=4.41.0->sentence-transformers) (2024.11.6)\n",
      "Requirement already satisfied: tokenizers<0.22,>=0.21 in /home/nikus/env311/lib/python3.11/site-packages (from transformers<5.0.0,>=4.41.0->sentence-transformers) (0.21.1)\n",
      "Requirement already satisfied: safetensors>=0.4.3 in /home/nikus/env311/lib/python3.11/site-packages (from transformers<5.0.0,>=4.41.0->sentence-transformers) (0.5.3)\n",
      "Requirement already satisfied: contourpy>=1.0.1 in /home/nikus/env311/lib/python3.11/site-packages (from matplotlib->catboost) (1.1.0)\n",
      "Requirement already satisfied: cycler>=0.10 in /home/nikus/env311/lib/python3.11/site-packages (from matplotlib->catboost) (0.11.0)\n",
      "Requirement already satisfied: fonttools>=4.22.0 in /home/nikus/env311/lib/python3.11/site-packages (from matplotlib->catboost) (4.42.1)\n",
      "Requirement already satisfied: kiwisolver>=1.0.1 in /home/nikus/env311/lib/python3.11/site-packages (from matplotlib->catboost) (1.4.5)\n",
      "Requirement already satisfied: pyparsing<3.1,>=2.3.1 in /home/nikus/env311/lib/python3.11/site-packages (from matplotlib->catboost) (3.0.9)\n",
      "Requirement already satisfied: tenacity>=6.2.0 in /home/nikus/env311/lib/python3.11/site-packages (from plotly->catboost) (8.2.3)\n",
      "Requirement already satisfied: mpmath<1.4,>=1.1.0 in /home/nikus/env311/lib/python3.11/site-packages (from sympy>=1.13.3->torch>=1.11.0->sentence-transformers) (1.3.0)\n",
      "Requirement already satisfied: MarkupSafe>=2.0 in /home/nikus/env311/lib/python3.11/site-packages (from jinja2->torch>=1.11.0->sentence-transformers) (2.1.3)\n",
      "Requirement already satisfied: charset-normalizer<4,>=2 in /home/nikus/env311/lib/python3.11/site-packages (from requests->huggingface-hub>=0.20.0->sentence-transformers) (3.2.0)\n",
      "Requirement already satisfied: idna<4,>=2.5 in /home/nikus/env311/lib/python3.11/site-packages (from requests->huggingface-hub>=0.20.0->sentence-transformers) (3.4)\n",
      "Requirement already satisfied: urllib3<3,>=1.21.1 in /home/nikus/env311/lib/python3.11/site-packages (from requests->huggingface-hub>=0.20.0->sentence-transformers) (1.26.16)\n",
      "Requirement already satisfied: certifi>=2017.4.17 in /home/nikus/env311/lib/python3.11/site-packages (from requests->huggingface-hub>=0.20.0->sentence-transformers) (2023.7.22)\n",
      "\n",
      "\u001b[1m[\u001b[0m\u001b[34;49mnotice\u001b[0m\u001b[1;39;49m]\u001b[0m\u001b[39;49m A new release of pip is available: \u001b[0m\u001b[31;49m25.0.1\u001b[0m\u001b[39;49m -> \u001b[0m\u001b[32;49m25.1.1\u001b[0m\n",
      "\u001b[1m[\u001b[0m\u001b[34;49mnotice\u001b[0m\u001b[1;39;49m]\u001b[0m\u001b[39;49m To update, run: \u001b[0m\u001b[32;49mpip install --upgrade pip\u001b[0m\n"
     ]
    }
   ],
   "source": [
    "!pip install dill sentence-transformers scikit-learn umap-learn hdbscan catboost pandas"
   ]
  },
  {
   "cell_type": "code",
   "execution_count": 1,
   "id": "8b873936",
   "metadata": {},
   "outputs": [],
   "source": [
    "import sys\n",
    "sys.path.append('src/scorer')"
   ]
  },
  {
   "cell_type": "code",
   "execution_count": null,
   "id": "fbb514e7",
   "metadata": {},
   "outputs": [],
   "source": [
    "import dill\n",
    "import pandas as pd\n",
    "from pipelines import StudyDirectionPipeline, ExperienceFieldPipeline"
   ]
  },
  {
   "cell_type": "markdown",
   "id": "347f19e7",
   "metadata": {},
   "source": [
    "Below is a minimal snippet showing how to score new resumes:"
   ]
  },
  {
   "cell_type": "code",
   "execution_count": null,
   "id": "3d9e8642",
   "metadata": {},
   "outputs": [],
   "source": [
    "# Load pre-saved pipelines\n",
    "sdp = dill.load(open('models/full_study_pipeline.dill','rb'))\n",
    "efp = dill.load(open('models/exp_field_pipeline.dill','rb'))"
   ]
  },
  {
   "cell_type": "code",
   "execution_count": null,
   "id": "3d97fb02",
   "metadata": {},
   "outputs": [],
   "source": [
    "# Read new resume data\n",
    "df = pd.read_excel('../data/resumes.xlsx')"
   ]
  },
  {
   "cell_type": "code",
   "execution_count": null,
   "id": "5825f7ec",
   "metadata": {},
   "outputs": [],
   "source": [
    "# Score Study Direction\n",
    "study_scores = sdp.predict(\n",
    "    selected_texts    = df['Selected_Direction'],\n",
    "    study_texts       = df['Study_Direction'],\n",
    "    additional_features = df[['Experience_Field_Cluster','Ed_Status_Level']]\n",
    ")\n",
    "df['StudyScore_Pred'] = study_scores"
   ]
  },
  {
   "cell_type": "code",
   "execution_count": null,
   "id": "636f7b45",
   "metadata": {},
   "outputs": [],
   "source": [
    "# Score Experience Field\n",
    "exp_scores = efp.predict(\n",
    "    selected_texts    = df['Selected_Direction'],\n",
    "    lists_of_skills   = df['IT_Skills_list'].tolist(),\n",
    "    additional_features = df[['Selected_Direction_Cluster','Ed_Status_Level']]\n",
    ")\n",
    "df['ExpFieldScore_Pred'] = exp_scores"
   ]
  },
  {
   "cell_type": "code",
   "execution_count": null,
   "id": "77a16065",
   "metadata": {},
   "outputs": [],
   "source": [
    "# Save or display\n",
    "df.head()"
   ]
  },
  {
   "cell_type": "code",
   "execution_count": null,
   "id": "a9113a05",
   "metadata": {},
   "outputs": [],
   "source": []
  }
 ],
 "metadata": {
  "kernelspec": {
   "display_name": "env311",
   "language": "python",
   "name": "python3"
  },
  "language_info": {
   "codemirror_mode": {
    "name": "ipython",
    "version": 3
   },
   "file_extension": ".py",
   "mimetype": "text/x-python",
   "name": "python",
   "nbconvert_exporter": "python",
   "pygments_lexer": "ipython3",
   "version": "3.11.13"
  }
 },
 "nbformat": 4,
 "nbformat_minor": 5
}
